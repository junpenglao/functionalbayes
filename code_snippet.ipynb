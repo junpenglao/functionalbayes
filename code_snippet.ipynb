{
 "cells": [
  {
   "attachments": {},
   "cell_type": "markdown",
   "metadata": {},
   "source": [
    "Code snippet as appear in the slides. Not all of them are valid Python code."
   ]
  },
  {
   "cell_type": "code",
   "execution_count": 1,
   "metadata": {},
   "outputs": [],
   "source": [
    "import numpy as np"
   ]
  },
  {
   "cell_type": "code",
   "execution_count": 5,
   "metadata": {},
   "outputs": [],
   "source": [
    "from typing import Callable\n",
    "\n",
    "def f(*args, **kwargs):\n",
    "    pass\n",
    "\n",
    "def g(input_fn: Callable, *args, **kwargs) -> Callable:\n",
    "    pass\n",
    "\n",
    "new_fn = g(f)\n",
    "# output = f(...)\n",
    "# new_output = new_fn(...)"
   ]
  },
  {
   "cell_type": "code",
   "execution_count": null,
   "metadata": {},
   "outputs": [],
   "source": [
    "from functools import partial\n",
    "\n",
    "def power(x, k):\n",
    "    return x ** k\n",
    "\n",
    "square = partial(power, k=2)\n",
    "square = lambda x: power(x, k=2)"
   ]
  },
  {
   "cell_type": "code",
   "execution_count": null,
   "metadata": {},
   "outputs": [],
   "source": [
    "def g(input_fn: Callable, *args, **kwargs) -> Callable:\n",
    "    # unpacking of args or kwargs\n",
    "    b, c = args\n",
    "    b_new = some_function(b)\n",
    "    return lambda a: input_fn(a, b_new, c, **kwargs)"
   ]
  },
  {
   "cell_type": "code",
   "execution_count": 4,
   "metadata": {},
   "outputs": [
    {
     "name": "stdout",
     "output_type": "stream",
     "text": [
      "update state\n",
      "Output(number=array([0., 0., 0., 0., 0., 0., 0., 0., 0., 0.]), other=10, more_stuff='test') State(number=array([1., 1., 1., 1., 1., 1., 1., 1., 1., 1.]), other=5)\n",
      "update state\n",
      "(Output(number=array([0., 0., 0., 0., 0., 0., 0., 0., 0., 0.]), other=10, more_stuff='test'), State(number=array([1., 1., 1., 1., 1., 1., 1., 1., 1., 1.]), other=5))\n"
     ]
    }
   ],
   "source": [
    "# Example motivated by https://jax.readthedocs.io/en/latest/jax-101/07-state.html\n",
    "from collections import namedtuple\n",
    "State = namedtuple('State', ['number', 'other'])\n",
    "Output = namedtuple('Output', ['number', 'other', 'more_stuff'])\n",
    "\n",
    "state = State(np.zeros(5), 1)\n",
    "\n",
    "class StatefulClass:\n",
    "    state: State\n",
    "    def __init__(self, state):\n",
    "        self.state = state\n",
    "\n",
    "    def stateful_method(self, *args, **kwargs) -> Output:\n",
    "        self.update_state(*args, **kwargs)\n",
    "        return Output(np.zeros(10), 10, 'test')\n",
    "\n",
    "    def update_state(self, *args, **kwargs) -> None:\n",
    "        print('update state')\n",
    "        self.state = State(np.ones(10), 5)\n",
    "\n",
    "class StatelessClass:\n",
    "\n",
    "    def stateless_method(self, state: State, *args, **kwargs) -> (Output, State):\n",
    "        next_state = self.update_state(state, *args, **kwargs)\n",
    "        return Output(np.zeros(10), 10, 'test'), next_state\n",
    "    \n",
    "    def update_state(state: State, *args, **kwargs) -> State:\n",
    "        print('update state')\n",
    "        return State(np.ones(10), 5)\n",
    "\n",
    "init_state = State(np.zeros(5), 1)\n",
    "fake_input = 'input_place_holder'\n",
    "state_full_compute = StatefulClass(init_state)\n",
    "print(state_full_compute.stateful_method(fake_input), state_full_compute.state)\n",
    "\n",
    "state_less_compute = StatelessClass()\n",
    "print(state_less_compute.stateless_method(init_state, fake_input))"
   ]
  },
  {
   "cell_type": "code",
   "execution_count": null,
   "metadata": {},
   "outputs": [],
   "source": [
    "import jax\n",
    "import jax.numpy as jnp\n",
    "import jax.scipy as jsp"
   ]
  },
  {
   "cell_type": "code",
   "execution_count": null,
   "metadata": {},
   "outputs": [],
   "source": [
    "import tensorflow_probability.substrates.jax as tfp\n",
    "\n",
    "tfd = tfp.distributions\n",
    "tfb = tfp.bijectors\n",
    "\n",
    "tf = tfp.tf2jax\n",
    "tfl = tfp.tf2jax.linalg"
   ]
  },
  {
   "cell_type": "code",
   "execution_count": null,
   "metadata": {},
   "outputs": [],
   "source": [
    "import jax\n",
    "import jax.numpy as jnp\n",
    "import jax.scipy.stats as stats\n",
    "import numpy as np\n",
    "\n",
    "import blackjax\n",
    "\n",
    "observed = np.random.normal(10, 20, size=1_000)\n",
    "def logdensity_fn(x):\n",
    "    logpdf = stats.norm.logpdf(observed, x[\"loc\"], x[\"scale\"])\n",
    "    return jnp.sum(logpdf)\n",
    "\n",
    "# Build the kernel\n",
    "step_size = 1e-3\n",
    "inverse_mass_matrix = jnp.array([1., 1.])\n",
    "nuts = blackjax.nuts(logdensity_fn, step_size, inverse_mass_matrix)\n",
    "\n",
    "# Initialize the state\n",
    "initial_position = {\"loc\": 1., \"scale\": 2.}\n",
    "state = nuts.init(initial_position)\n",
    "\n",
    "# Iterate\n",
    "rng_key = jax.random.key(0)\n",
    "step = jax.jit(nuts.step)\n",
    "for _ in range(1_000):\n",
    "    _, rng_key = jax.random.split(rng_key)\n",
    "    state, _ = step(rng_key, state)"
   ]
  },
  {
   "cell_type": "code",
   "execution_count": null,
   "metadata": {},
   "outputs": [],
   "source": [
    "ArrayTree = Union[Array, Iterable['ArrayTree'], Mapping[Any, 'ArrayTree']]\n",
    "\n",
    "\n",
    "def prior_sampling(rng, num_samples) -> ArrayTree:\n",
    "    ...\n",
    "\n",
    "def prior_predictive_sampling(rng, num_samples) -> ArrayTree:\n",
    "    ...\n",
    "\n",
    "def posterior_sampling(rng, data, num_samples) -> ArrayTree:\n",
    "    ...\n",
    "    return posterior_samples\n",
    "\n",
    "def posterior_predictive_sampling(\n",
    "        rng, data, posterior_samples, num_samples) -> ArrayTree:\n",
    "    ..."
   ]
  }
 ],
 "metadata": {
  "kernelspec": {
   "display_name": "bayescomp23",
   "language": "python",
   "name": "python3"
  },
  "language_info": {
   "codemirror_mode": {
    "name": "ipython",
    "version": 3
   },
   "file_extension": ".py",
   "mimetype": "text/x-python",
   "name": "python",
   "nbconvert_exporter": "python",
   "pygments_lexer": "ipython3",
   "version": "3.10.9"
  },
  "orig_nbformat": 4
 },
 "nbformat": 4,
 "nbformat_minor": 2
}
